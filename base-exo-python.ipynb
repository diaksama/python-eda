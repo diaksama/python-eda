{
 "cells": [
  {
   "cell_type": "code",
   "execution_count": 16,
   "metadata": {},
   "outputs": [
    {
     "name": "stdout",
     "output_type": "stream",
     "text": [
      "Vous avez déposé 350€, votre nouveau solde est de : 1150€\n",
      "Vous avez retiré 200€, votre nouveau solde est de : 950€\n",
      "Le solde du compte de Duchmol est de 950€\n",
      "Vous avez déposé 25€, votre nouveau solde est de : 1025€\n",
      "Le solde du compte de Dupont est de 1025€\n"
     ]
    }
   ],
   "source": [
    "class CompteBancaire():\n",
    "    \n",
    "    def __init__(self, nom = \"Dupont\", solde = 1000):\n",
    "        self.nom = nom\n",
    "        self.solde = solde\n",
    "        \n",
    "    def depot(self, somme):\n",
    "        self.solde = self.solde + somme\n",
    "        print(\"Vous avez déposé \" + str(somme) + \"€, votre nouveau solde est de : \" + str(self.solde) + \"€\")\n",
    "        \n",
    "    def retrait(self, somme):\n",
    "        self.solde = self.solde - somme\n",
    "        print(\"Vous avez retiré \" + str(somme) + \"€, votre nouveau solde est de : \" + str(self.solde) + \"€\")\n",
    "        \n",
    "    def affiche(self):\n",
    "        print(\"Le solde du compte de \" + self.nom + \" est de \" + str(self.solde) + \"€\")\n",
    "        \n",
    "compte1 = CompteBancaire('Duchmol', 800)\n",
    "compte1.depot(350)\n",
    "compte1.retrait(200)\n",
    "compte1.affiche()\n",
    "\n",
    "compte2 = CompteBancaire()\n",
    "compte2.depot(25)\n",
    "compte2.affiche()"
   ]
  },
  {
   "cell_type": "code",
   "execution_count": 14,
   "metadata": {},
   "outputs": [
    {
     "name": "stdout",
     "output_type": "stream",
     "text": [
      "[0, 2, 4, 6, 8]\n"
     ]
    }
   ],
   "source": [
    "l= [x for x in range(10) if x % 2 == 0]\n",
    "print(l)"
   ]
  },
  {
   "cell_type": "code",
   "execution_count": 15,
   "metadata": {},
   "outputs": [
    {
     "name": "stdout",
     "output_type": "stream",
     "text": [
      "P(2,3)\n",
      "P(1,-5,6)\n"
     ]
    }
   ],
   "source": [
    "class Point:\n",
    "    \n",
    "    def __init__(self, x, y, z= None):\n",
    "        self.x = x\n",
    "        self.y = y\n",
    "        self.z = z\n",
    "        \n",
    "    def ToString(self):\n",
    "        if(self.z==None):\n",
    "            print(\"P({},{})\".format(self.x, self.y))\n",
    "        else:\n",
    "            print(\"P({},{},{})\".format(self.x, self.y, self.z))\n",
    "            \n",
    "        \n",
    "P1=Point(2,3)\n",
    "P1.ToString()\n",
    "P2=Point(1,-5,6)\n",
    "P2.ToString()"
   ]
  },
  {
   "cell_type": "code",
   "execution_count": 17,
   "metadata": {},
   "outputs": [
    {
     "name": "stdout",
     "output_type": "stream",
     "text": [
      "Nom: Ilyass\n",
      "Prénom: Math\n",
      "Date de naissance: 1 / 7 / 1982\n",
      "\n",
      "Nom: Ilyass\n",
      "Prénom: Math\n",
      "Date de naissance: 1 / 7 / 1985\n",
      "Salaire: 7865.55\n",
      "\n",
      "Nom: Ilyass\n",
      "Prénom: Math\n",
      "Date de naissance: 1 / 7 / 1988\n",
      "Salaire: 7865.55\n",
      "Service: Ressources Humaines\n",
      "\n"
     ]
    }
   ],
   "source": [
    "class DateNaissance:\n",
    "    \n",
    "    def __init__(self, jour, mois, annee):\n",
    "        self.jour = str(jour).zfill(2)\n",
    "        self.mois = str(mois).zfill(2)\n",
    "        self.annee = annee\n",
    "        \n",
    "    def __str__(self):\n",
    "        return \"{} / {} / {}\".format(self.jour, self.mois, self.annee)\n",
    "        \n",
    "class Personne():\n",
    "\n",
    "    def __init__(self, nom, prenom, naissance):\n",
    "        self.nom = nom\n",
    "        self.prenom = prenom\n",
    "        self.naissance = naissance\n",
    "        \n",
    "    def afficher(self):\n",
    "        print(\"\\n\" \"Nom: {}\".format(self.nom))\n",
    "        print(\"Prénom: {}\".format(self.prenom))\n",
    "        print(\"Date de naissance: {}\".format(self.naissance))\n",
    "\n",
    "P= Personne(\"Ilyass\",\"Math\",DateNaissance(1,7,1982))\n",
    "P.afficher()\n",
    "\n",
    "class Employe(Personne):\n",
    "    \n",
    "    def __init__(self, nom, prenom, naissance, salaire):\n",
    "        super().__init__(nom, prenom, naissance)\n",
    "        self.salaire = format(salaire, '.2f')\n",
    "        \n",
    "    def afficher(self):\n",
    "        super().afficher()\n",
    "        print(\"Salaire: {}\".format(self.salaire))\n",
    "        \n",
    "E=Employe(\"Ilyass\",\"Math\",DateNaissance(1,7,1985),7865.548)\n",
    "E.afficher()\n",
    "\n",
    "\n",
    "class Chef(Employe):\n",
    "    \n",
    "    def __init__(self, nom, prenom, naissance, salaire, service):\n",
    "        super().__init__(nom, prenom, naissance, salaire)\n",
    "        self.service = service\n",
    "        \n",
    "    def afficher(self):\n",
    "        super().afficher()\n",
    "        print(\"Service: \" + self.service)\n",
    "        \n",
    "Ch =Chef(\"Ilyass\",\"Math\",DateNaissance(1,7,1988),7865.548, \"Ressources Humaines\")\n",
    "Ch.afficher()"
   ]
  },
  {
   "cell_type": "code",
   "execution_count": 19,
   "metadata": {},
   "outputs": [
    {
     "name": "stdout",
     "output_type": "stream",
     "text": [
      "Lettre: \n",
      "Adresse destination: Lille\n",
      "Adresse expédition: Paris\n",
      "Poids: 80 grammes\n",
      "Mode: normal\n",
      "Format: A4\n",
      "Prix du timbre: 0.2 \n",
      "\n",
      "Lettre: \n",
      "Adresse destination: Marrakeche\n",
      "Adresse expédition: Barcelone\n",
      "Poids: 3500 grammes\n",
      "Mode: express\n",
      "Volume: 2.25\n",
      "Prix du timbre: 3.9375 \n",
      "\n"
     ]
    }
   ],
   "source": [
    "class Courrier:\n",
    "    def  __init__(self, destination, expedition, poids, mode):\n",
    "        self.destination = destination\n",
    "        self.expedition = expedition\n",
    "        self.poids = poids\n",
    "        self.mode = mode\n",
    "        \n",
    "    def toString(self):\n",
    "        print(\"Adresse destination: {}\".format(self.destination))\n",
    "        print(\"Adresse expédition: {}\".format(self.expedition))\n",
    "        print(\"Poids: {} grammes\".format(self.poids))\n",
    "        print(\"Mode: {}\".format(self.mode))\n",
    "        \n",
    "class Lettre(Courrier):\n",
    "    def  __init__(self, destination, expedition, poids, mode, dimension):\n",
    "        super().__init__(destination, expedition, poids, mode)\n",
    "        self.dimension = dimension\n",
    "        \n",
    "        \n",
    "    def calculTimbre(self):\n",
    "        prix = 0\n",
    "        base = 0\n",
    "        if self.dimension == \"A4\":\n",
    "            base = 2.5     \n",
    "        else:\n",
    "            base = 3.5\n",
    "        if self.mode==\"normal\" or self.mode==\"Normal\":\n",
    "            prix = base * 1 * (self.poids/1000)\n",
    "        else:\n",
    "            prix = base * 2 * (self.poids/1000)\n",
    "        return prix\n",
    "\n",
    "\n",
    "    def toString(self):\n",
    "        print(\"Lettre: \")\n",
    "        super().toString()\n",
    "        print(\"Format: {}\".format(self.dimension))\n",
    "        print(\"Prix du timbre: {} \\n\".format(self.calculTimbre()))\n",
    "\n",
    "\n",
    "class Colis(Courrier):\n",
    "    def  __init__(self, destination, expedition, poids, mode, dimension):\n",
    "        super().__init__(destination, expedition, poids, mode)\n",
    "        self.dimension = dimension\n",
    "        \n",
    "        \n",
    "    def calculTimbre(self):\n",
    "        prix = 0\n",
    "        if self.mode==\"normal\" or self.mode==\"Normal\":\n",
    "            prix = 0.25 * self.dimension * (self.poids/1000)\n",
    "        else:\n",
    "            prix = 0.25 * self.dimension * (self.poids/1000) * 2\n",
    "        return prix\n",
    "\n",
    "\n",
    "    def toString(self):\n",
    "        print(\"Lettre: \")\n",
    "        super().toString()\n",
    "        print(\"Volume: {}\".format(self.dimension))\n",
    "        print(\"Prix du timbre: {} \\n\".format(self.calculTimbre()))\n",
    "\n",
    "\n",
    "L1 = Lettre(\"Lille\",\"Paris\",80,\"normal\",\"A4\")\n",
    "L1.toString()\n",
    "\n",
    "C1=Colis(\"Marrakeche\",\"Barcelone\",3500,\"express\",2.25)\n",
    "C1.toString()"
   ]
  },
  {
   "cell_type": "code",
   "execution_count": null,
   "metadata": {},
   "outputs": [],
   "source": []
  }
 ],
 "metadata": {
  "kernelspec": {
   "display_name": "Python 3",
   "language": "python",
   "name": "python3"
  },
  "language_info": {
   "codemirror_mode": {
    "name": "ipython",
    "version": 3
   },
   "file_extension": ".py",
   "mimetype": "text/x-python",
   "name": "python",
   "nbconvert_exporter": "python",
   "pygments_lexer": "ipython3",
   "version": "3.8.3"
  }
 },
 "nbformat": 4,
 "nbformat_minor": 4
}
