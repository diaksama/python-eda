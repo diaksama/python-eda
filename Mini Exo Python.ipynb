{
 "cells": [
  {
   "cell_type": "code",
   "execution_count": 16,
   "metadata": {},
   "outputs": [
    {
     "name": "stdout",
     "output_type": "stream",
     "text": [
      "Vous avez déposé 350€, votre nouveau solde est de : 1150€\n",
      "Vous avez retiré 200€, votre nouveau solde est de : 950€\n",
      "Le solde du compte de Duchmol est de 950€\n",
      "Vous avez déposé 25€, votre nouveau solde est de : 1025€\n",
      "Le solde du compte de Dupont est de 1025€\n"
     ]
    }
   ],
   "source": [
    "class CompteBancaire():\n",
    "    \n",
    "    def __init__(self, nom = \"Dupont\", solde = 1000):\n",
    "        self.nom = nom\n",
    "        self.solde = solde\n",
    "        \n",
    "    def depot(self, somme):\n",
    "        self.solde = self.solde + somme\n",
    "        print(\"Vous avez déposé \" + str(somme) + \"€, votre nouveau solde est de : \" + str(self.solde) + \"€\")\n",
    "        \n",
    "    def retrait(self, somme):\n",
    "        self.solde = self.solde - somme\n",
    "        print(\"Vous avez retiré \" + str(somme) + \"€, votre nouveau solde est de : \" + str(self.solde) + \"€\")\n",
    "        \n",
    "    def affiche(self):\n",
    "        print(\"Le solde du compte de \" + self.nom + \" est de \" + str(self.solde) + \"€\")\n",
    "        \n",
    "compte1 = CompteBancaire('Duchmol', 800)\n",
    "compte1.depot(350)\n",
    "compte1.retrait(200)\n",
    "compte1.affiche()\n",
    "\n",
    "compte2 = CompteBancaire()\n",
    "compte2.depot(25)\n",
    "compte2.affiche()"
   ]
  },
  {
   "cell_type": "code",
   "execution_count": 14,
   "metadata": {},
   "outputs": [
    {
     "name": "stdout",
     "output_type": "stream",
     "text": [
      "[0, 2, 4, 6, 8]\n"
     ]
    }
   ],
   "source": [
    "l= [x for x in range(10) if x % 2 == 0]\n",
    "print(l)"
   ]
  },
  {
   "cell_type": "code",
   "execution_count": 15,
   "metadata": {},
   "outputs": [
    {
     "name": "stdout",
     "output_type": "stream",
     "text": [
      "P(2,3)\n",
      "P(1,-5,6)\n"
     ]
    }
   ],
   "source": [
    "class Point:\n",
    "    \n",
    "    def __init__(self, x, y, z= None):\n",
    "        self.x = x\n",
    "        self.y = y\n",
    "        self.z = z\n",
    "        \n",
    "    def ToString(self):\n",
    "        if(self.z==None):\n",
    "            print(\"P({},{})\".format(self.x, self.y))\n",
    "        else:\n",
    "            print(\"P({},{},{})\".format(self.x, self.y, self.z))\n",
    "            \n",
    "        \n",
    "P1=Point(2,3)\n",
    "P1.ToString()\n",
    "P2=Point(1,-5,6)\n",
    "P2.ToString()"
   ]
  },
  {
   "cell_type": "code",
   "execution_count": null,
   "metadata": {},
   "outputs": [],
   "source": []
  }
 ],
 "metadata": {
  "kernelspec": {
   "display_name": "Python 3",
   "language": "python",
   "name": "python3"
  },
  "language_info": {
   "codemirror_mode": {
    "name": "ipython",
    "version": 3
   },
   "file_extension": ".py",
   "mimetype": "text/x-python",
   "name": "python",
   "nbconvert_exporter": "python",
   "pygments_lexer": "ipython3",
   "version": "3.8.3"
  }
 },
 "nbformat": 4,
 "nbformat_minor": 4
}
